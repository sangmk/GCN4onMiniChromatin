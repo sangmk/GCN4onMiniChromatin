{
 "cells": [
  {
   "cell_type": "code",
   "execution_count": 1,
   "id": "c9a0c5a8",
   "metadata": {},
   "outputs": [],
   "source": [
    "from Bio import SeqIO\n",
    "import numpy as np\n",
    "from matplotlib import pyplot as plt\n",
    "from progressbar import progressbar"
   ]
  },
  {
   "cell_type": "code",
   "execution_count": 2,
   "id": "4ad5c555-ed10-48d8-b74b-5be7389a67e5",
   "metadata": {},
   "outputs": [
    {
     "name": "stdout",
     "output_type": "stream",
     "text": [
      "Record ID: .\n",
      "Description: synthetic circular DNA\n",
      "Sequence length: 3070\n"
     ]
    }
   ],
   "source": [
    "gbk_file = \"./YRp48lacO6(TATO7BHIS3MS2lacO6).gbk\"\n",
    "\n",
    "with open(gbk_file, \"r\") as handle:\n",
    "    record = SeqIO.read(handle, \"genbank\")\n",
    "    print(f\"Record ID: {record.id}\")\n",
    "    print(f\"Description: {record.description}\")\n",
    "    print(f\"Sequence length: {len(record.seq)}\")"
   ]
  },
  {
   "cell_type": "code",
   "execution_count": 3,
   "id": "790dd423-c0d6-4ac5-b99d-8d50fc4b19c5",
   "metadata": {},
   "outputs": [],
   "source": [
    "def double_check_resembles(threshold=5):\n",
    "    target = \"ATGACTCAT\"\n",
    "    matches = {}\n",
    "    for start in range(0,len(full_seq)-9):\n",
    "        subseq = full_seq[start:start+9]\n",
    "        nmatch = sum(1 for a, b in zip(subseq, target) if a == b)\n",
    "        if nmatch >= threshold:\n",
    "            matches[start] = nmatch\n",
    "    return matches\n",
    "\n",
    "def get_matches_fromZelin():\n",
    "    target = \"ATGACTCAT\"\n",
    "    matches = {} # start site: matches\n",
    "    endSites = {} # start site: end sites\n",
    "    for feature in progressbar(record.features):\n",
    "        if feature.type == 'misc_feature':\n",
    "            start = int(feature.location.start)\n",
    "            end = int(feature.location.end)\n",
    "            seq_str = str(feature.extract(record.seq))\n",
    "            # Compare base by base\n",
    "            matches[start] = sum(1 for a, b in zip(seq_str, target) if a == b)\n",
    "            endSites[start] = end\n",
    "    return matches, endSites"
   ]
  },
  {
   "cell_type": "code",
   "execution_count": 4,
   "id": "99c9c5b2-7adb-4611-9cf4-2f13a4904889",
   "metadata": {},
   "outputs": [
    {
     "data": {
      "text/plain": [
       "156"
      ]
     },
     "execution_count": 4,
     "metadata": {},
     "output_type": "execute_result"
    }
   ],
   "source": [
    "# Full sequence\n",
    "full_seq = str(record.seq)\n",
    "matches_doubleCheck = double_check_resembles()\n",
    "prev_start = -100\n",
    "for start in list(matches_doubleCheck.keys()):\n",
    "    if start < prev_start + 9:\n",
    "        if matches_doubleCheck[start] > matches_doubleCheck[prev_start]:\n",
    "            matches_doubleCheck.pop(prev_start)\n",
    "            prev_start = start\n",
    "        else:\n",
    "            matches_doubleCheck.pop(start)\n",
    "startSites_doubleCheck = list(matches_doubleCheck.keys())\n",
    "len(matches_doubleCheck)"
   ]
  },
  {
   "cell_type": "code",
   "execution_count": 5,
   "id": "fb2ad4d6-0ffd-4f12-80d9-0c91924a3294",
   "metadata": {},
   "outputs": [
    {
     "name": "stderr",
     "output_type": "stream",
     "text": [
      "  0% (0 of 96) |                         | Elapsed Time: 0:00:00 ETA:  --:--:--\n",
      "100% (96 of 96) |########################| Elapsed Time: 0:00:00 Time:  0:00:00\n"
     ]
    },
    {
     "name": "stdout",
     "output_type": "stream",
     "text": [
      "Minimum match: 4\n"
     ]
    },
    {
     "data": {
      "text/plain": [
       "44"
      ]
     },
     "execution_count": 5,
     "metadata": {},
     "output_type": "execute_result"
    }
   ],
   "source": [
    "matches, endSites = get_matches_fromZelin()\n",
    "startSites = list(matches.keys())\n",
    "for excluded in [980, 1146, 1893]: # 980 is the overlap, the other two are not\n",
    "    if excluded in startSites: \n",
    "        startSites.remove(excluded)\n",
    "        matches.pop(excluded)\n",
    "        endSites.pop(excluded)\n",
    "print(\"Minimum match:\",min([matches[k] for k in matches]))\n",
    "len(startSites)"
   ]
  },
  {
   "cell_type": "markdown",
   "id": "16ddea41-9654-4fd0-9b52-b04eed7a13fe",
   "metadata": {},
   "source": [
    "Notes: \n",
    "1. The start site given by `feature.location.start` is the python position starting from 0.\n",
    "2. The end site given by `feature.location.end` can be understood as slicing `[start:end]`.\n",
    "   \n",
    "Problems:\n",
    "1. 要处理重复的site，如果考虑全部的9个bases，其中977-985以及981-989的两个长度为9的片段会重复。\n",
    "    - 其中第一段重复了7个，第二段重复了6个，按照一个site算，有7个重复的sites"
   ]
  },
  {
   "cell_type": "markdown",
   "id": "f72b94cc-a17e-48da-9f9f-5d9325d73352",
   "metadata": {},
   "source": [
    "In addition, the UAS site is at 937 - 945 and it has 8 sites resembling the strongest binding site `ATGACTCAT`."
   ]
  },
  {
   "cell_type": "code",
   "execution_count": 6,
   "id": "d2227671-83e2-4cc1-ba72-0c15d84dfdb7",
   "metadata": {},
   "outputs": [],
   "source": [
    "UAS = {'start':936, 'end':945, 'matches':8}\n",
    "HIS3 = {'start':884, 'end':1953}"
   ]
  },
  {
   "cell_type": "markdown",
   "id": "48dbe294-5517-4c67-bb74-a8729dc31537",
   "metadata": {},
   "source": [
    "Since all DNA oligomers contain the UAS site (or mutated UAS site), the start site of UAS is set to be at 0 in our model. Then, the relative positions of each site can be defined using this coordinate. Firstly, we want to compare our result with occupancy measures for san check.\n",
    "- This is for $\\Delta$UAS mutations\n",
    "- For qualatitive comparison with G_SELEX, the following problems are considered:\n",
    "\n",
    "We care about the sequence between TRP1 and the 6 lac operators, it has 2265 base pairs, which is 755 nm. This is much longer than the persistence length. \n",
    "\n",
    "Also, how to deal with nucleosomes?\n",
    "1. Here we care about occupancy on sites. \n",
    "2. A broad G-SELEX peak suggests that, for pure DNA binding with a specific protein, the protein can bind anywhere within that region of DNA with comparable affinity. - by ChatGPT\n",
    "3. Maybe I can focus on HIS3. It starts from 885 to 1953, and its length is 1069 bp or 356 nm. This looks good for a simulation. When the 3D dissociation constant is 1 nm^2/us and $D_{1d}$ is 0.1 nm^2/us, covering the whole length takes $0.063$ s or $0.63$ s for pure diffusion. (Compare $\\sqrt{2Dt}$ to the total length)."
   ]
  },
  {
   "cell_type": "code",
   "execution_count": 7,
   "id": "2df4451a-dafd-4afe-8075-d834c965a15f",
   "metadata": {},
   "outputs": [],
   "source": [
    "length_HIS3 = (HIS3['end'] - HIS3['start'])/3 # nm"
   ]
  },
  {
   "cell_type": "code",
   "execution_count": 8,
   "id": "4e9af337-2263-4568-9416-7ab5d0456cc6",
   "metadata": {},
   "outputs": [
    {
     "name": "stdout",
     "output_type": "stream",
     "text": [
      "The contour length of HIS3 (including upstream and downstream) is 356.3 nm\n",
      "For 1d, D=0.1 nm^/us, when 2Dt = L^2, t=0.635 s\n",
      "For 3d, D=1 nm^/us, when 2Dt = L^2, t=0.063 s\n"
     ]
    }
   ],
   "source": [
    "print(\"The contour length of HIS3 (including upstream and downstream) is %.1f nm\"%length_HIS3)\n",
    "print(\"For 1d, D=0.1 nm^/us, when 2Dt = L^2, t=%.3f s\"%(length_HIS3**2/2/0.1/1e6)) \n",
    "print(\"For 3d, D=1 nm^/us, when 2Dt = L^2, t=%.3f s\"%(length_HIS3**2/2/1e6))"
   ]
  },
  {
   "cell_type": "code",
   "execution_count": 9,
   "id": "31be12b3-a946-4f33-8e8c-dabd9185740b",
   "metadata": {},
   "outputs": [
    {
     "name": "stdout",
     "output_type": "stream",
     "text": [
      "53 sites found. Thus 5 proteins will be added. (see discussion about Coey and Clark G-SELEX below.)\n"
     ]
    }
   ],
   "source": [
    "# relative to the start of HIS3, resembling sites are\n",
    "resembSitesPositions = [\n",
    "    start-HIS3['start'] for start in startSites_doubleCheck \\\n",
    "    if HIS3['start'] < start < HIS3['end']\n",
    "]\n",
    "N_protein = int(round(len(resembSitesPositions) / 10))\n",
    "print(f\"{len(resembSitesPositions)} sites found. Thus {N_protein} proteins will be added. \\\n",
    "(see discussion about Coey and Clark G-SELEX below.)\")"
   ]
  },
  {
   "cell_type": "markdown",
   "id": "ace34d8f-bfff-482c-bdc6-05a687638f7a",
   "metadata": {},
   "source": [
    "Previously we used $n_{non}/l \\approx 3/5$ nm$^{-1}$, now this setting is kept. Still, we need to subtract trap (targets) from the total number of nonspecific sites. To be clear, hereafter I will use random sites for random sequences and targets for all traps including the consensus sequence and \"half\" sites."
   ]
  },
  {
   "cell_type": "code",
   "execution_count": 10,
   "id": "d824ffe4-c626-4b28-8279-09688ee25a75",
   "metadata": {},
   "outputs": [
    {
     "name": "stdout",
     "output_type": "stream",
     "text": [
      "161 random sites for protein slidnig.\n"
     ]
    }
   ],
   "source": [
    "N_random = int(round(length_HIS3*3/5 - len(resembSitesPositions),0))\n",
    "print(f\"{N_random} random sites for protein slidnig.\")"
   ]
  },
  {
   "cell_type": "markdown",
   "id": "362ea8cd-f3f9-40a0-b5a6-93edb0304ec0",
   "metadata": {},
   "source": [
    "Coey and Clark's G-SELEX uses DNA ~ 15 uM. This is $15\\times 6.022 \\times 10^{-7}$ segments (~200bp) per $nm^3$, or $1.81 \\times 10^{-3}$ bp / nm$^3$. The HIS3 segment has 1069 bp so the volume should be $5.92 \\times 10^5$ nm$^3$. The length is already decided to be 356.3 nm, and thus the y, z length should be 40.75 nm $\\approx$ 40 nm.\n",
    "\n",
    "Since there will be only 5 proteins, simply randomly initialize them with multiple trajectories might be the best way for a homogeneous distribution."
   ]
  },
  {
   "cell_type": "code",
   "execution_count": null,
   "id": "521651c0-71e1-4f37-a2ee-bcf78a68ec4f",
   "metadata": {},
   "outputs": [],
   "source": [
    "from initiatePositions import write_fixedCrds\n",
    "InitialCoords = {}\n",
    "length = length_HIS3\n",
    "xcrds = np.linspace(-length/2+0.001, length/2-0.001, N_random)\n",
    "InitialCoords['N'] = [[x-length/2] for x in xcrds]\n",
    "for i, x in enumerate(resembSitesPositions):\n",
    "    InitialCoords[f'S{i}'] = [[x-length/2+4.5/3]] # plus 4.5 bp to use the center as position\n",
    "y_center = 0\n",
    "z_center = 0\n",
    "fixCrds = write_fixedCrds(InitialCoords, y_center, z_center)\n",
    "# print(fixCrds)\n",
    "with open('./model/fixCoordinates.pdb', 'w') as f:\n",
    "    f.write(fixCrds)"
   ]
  },
  {
   "cell_type": "markdown",
   "id": "93e14744-cff8-4116-933b-012ab8628e53",
   "metadata": {},
   "source": [
    "For equilibrium comparison, kinetic rates do not affect the results. Thus, we can set relative fast kinetic rates (especially off rates). The off rates for target binding can be in the scale of $1 s^{-1}$ to reduce time correlation. \n",
    "\n",
    "Should the off rate of random binding regulate the width of G_SELEX peaks?\n",
    "- Maybe this should be a combination of target-binding off rate and random-binding off rate.\n",
    "- Wrong! Since, except for the trap position, $\\partial \\rho/\\partial t = D \\partial^2 \\rho/\\partial x^2$, and the reflective boundary condition where $\\partial \\rho/\\partial x = 0$, the only stationary solution is $\\rho = const.$ Therefore, the target-binding off rate is not the problem.\n",
    "- Considering non-equilibrium problem, the distribution of the bound protein along DNA depends on its initial position, and the dynamical distribution follows Smoluchovski's theory. Now, the random-binding off rate affects the measured peak width when its faster than relaxation time for spatial redistribution ($k_a^2 t/D$).\n",
    "- What about the on rate of target binding? In principal, it can regulate the peak width since it tunes the distribution of the arrival position. However, according to facilitated diffusion's studies, the target binding is at diffusion limit and that is why 1D diffusion can accelerate searching. Therefore, we may assume the initial distribution of proteins along the DNA is uniform.\n",
    "- For Coey and Clark's work, DNA is in excess (~ 10 sites per protein monomer). 3 rounds of G-SELEX were performed, and they did not mention changing protein-DNA ratio. ref: https://doi.org/10.1101/gr.276080.121\n",
    "    - They also use gel assay to determine the KD for the native (strongest) binding (with so called RY motifs) is 80 nM.\n",
    "\n",
    "Summarize:\n",
    "1. Target-binding rates can be chosen quite freely, just to make sure $k^S_a >> 4\\pi D\\sigma = 12.566$ nm$^2$/us.\n",
    "    - As a result of ***diffusion-limit***, we simply assume kaS are the same\n",
    "2. Random-binding rates might need to be tuned for a better result.\n",
    "3. Full site affinity is KD = 80 nM and random binding affinity is KD = 80 uM (adopt the empirical difference between dimer specific binding and random binding.)\n",
    "4. To decide the KD for different traps, this formula is considered:\n",
    "\n",
    "$$K_D = \\exp \\frac{\\Delta G}{k_BT}$$\n"
   ]
  },
  {
   "cell_type": "code",
   "execution_count": 12,
   "id": "bd6b496e-a212-44ba-9154-0a992d58a308",
   "metadata": {},
   "outputs": [],
   "source": [
    "def write_PS_reaction(S_name, KD, ka):\n",
    "    \"\"\"\n",
    "    KD in nM\n",
    "    ka in nm^2 / us\n",
    "    \"\"\"\n",
    "    KD_nm3 = KD * 1e-9 * 0.6022 # convert to nm^-3\n",
    "    kb = ka * KD_nm3 * 1e6 # this is s^-1\n",
    "    reaction_str = f\"\"\"  {S_name}(bs) + P(dbs) <-> {S_name}(bs!1).P(dbs!1)\n",
    "    onRate3Dka = {ka:.4f}\n",
    "    offRatekb = {kb:.4f} # KD = {KD:.2f} nM\n",
    "    norm1 = [0, 0, 1]\n",
    "    norm2 = [0, 0, 1]\n",
    "    sigma = 1.00\n",
    "    assocAngles = [0.785398, 2.356194, 0.000000, M_PI, 0.000000]\n",
    "    loopcoopfactor = 1\n",
    "    bindRadSameCom = 1.1\n",
    "    area3dto1d = 10\n",
    "    \"\"\"\n",
    "    return reaction_str"
   ]
  },
  {
   "cell_type": "code",
   "execution_count": null,
   "id": "16e5bddb-0929-4e18-974a-dae6132afdcd",
   "metadata": {
    "scrolled": true
   },
   "outputs": [],
   "source": [
    "KD_full = 80 # nM\n",
    "KD_random = 80 * 1e3 # nM\n",
    "\n",
    "kaS = 120\n",
    "kaN = 120 # I am looking for kbN ~ 100 kbS\n",
    "kbN = KD_random * 1e-9 * 0.6022 * kaN * 1e6 \n",
    "\n",
    "reactions = f\"\"\"start reactions\n",
    "\n",
    "  N(bs) + P(dbn) <-> N(bs!1).P(dbn!1)\n",
    "    onRate3Dka = {kaN:.4f}\n",
    "    offRatekb = {kbN:.4f} # KD = {KD_random:.2f} nM\n",
    "    norm1 = [0, 0, 1]\n",
    "    norm2 = [0, 0, 1]\n",
    "    sigma = 1.000007\n",
    "    assocAngles = [0.785398, 2.356194, 0.000000, M_PI, 0.000000]\n",
    "    loopcoopfactor = 1\n",
    "    bindRadSameCom = 1.1\n",
    "    area3dto1d = 10\n",
    "    \n",
    "\"\"\"\n",
    "\n",
    "for si, sx in enumerate(resembSitesPositions):\n",
    "    KD_si = KD_full ** (9 / matches_doubleCheck[sx+HIS3['start']])\n",
    "    reactions += write_PS_reaction(f\"S{si}\", KD_si, kaS)\n",
    "    reactions += \"\\n\"\n",
    "reactions += \"end reactions\""
   ]
  },
  {
   "cell_type": "code",
   "execution_count": 15,
   "id": "dd404bbe-66ea-47d6-af98-abf99b96b08f",
   "metadata": {
    "scrolled": true
   },
   "outputs": [],
   "source": [
    "parameters = f\"\"\"# Info:\n",
    "#    GCN4 binding with HIS3 including upstream and downstream\n",
    "#    Model G-SELEX measurement by Coey and Clark, 2022\n",
    "#    For the purpose of Mini-chromatin of Zelin Wei\n",
    "#    2025-09-16\n",
    "\n",
    "start parameters\n",
    "    nItr = 1000000001 # 1e9 iterations\n",
    "    timeStep = 1 # us, the maximum timestep calculated from kbPN\n",
    "    timeWrite = 1e5 # 0.1 s\n",
    "    pdbWrite = 1e5\n",
    "    trajWrite = 1e9\n",
    "    assocdissocwrite = false\n",
    "    overlapSepLimit = 1.0\n",
    "end parameters\n",
    "\n",
    "start boundaries\n",
    "    WaterBox = [356.3, 40, 40] # VtoL = 5.7 x 10^5 nm^3\n",
    "end boundaries\n",
    "\n",
    "start molecules\n",
    "    N : {N_random}\n",
    "    P : 5\n",
    "\"\"\"\n",
    "\n",
    "for si, _ in enumerate(resembSitesPositions):\n",
    "    parameters += f\"    S{si} : 1\"\n",
    "    parameters += \"\\n\"\n",
    "parameters += \"end molecules\\n\\n\"\n",
    "parameters += reactions\n",
    "\n",
    "with open('./model/parms.inp', 'w') as f:\n",
    "    f.write(parameters)\n",
    "\n",
    "# print(parameters)"
   ]
  },
  {
   "cell_type": "markdown",
   "id": "8c6adfc0-0acf-4208-b83d-3642f9c409a0",
   "metadata": {},
   "source": [
    "Then just create molecule files for simulations, P and N can be the same as before, S should be modified by names."
   ]
  },
  {
   "cell_type": "code",
   "execution_count": 16,
   "id": "d5820b4e-7c7a-4679-93e4-d0bf10560ba7",
   "metadata": {},
   "outputs": [],
   "source": [
    "def write_S_mol(S_name):\n",
    "\n",
    "    molinfo = f\"\"\"##\n",
    "# specific binding sites molecule information file\n",
    "##\n",
    "\n",
    "Name    = {S_name}\n",
    "isPromoter = true\n",
    "\n",
    "# translational diffusion constants\n",
    "D       = [0.0,0.0,0.0] # for chromatin\n",
    "\n",
    "# rotational diffusion constants\n",
    "Dr      = [0.000,0.000,0.000]\n",
    "\n",
    "# Coordinates, with states below, or\n",
    "COM     0.0000    0.0000    0.0000\n",
    "bs      0.3000   -0.4000    0.5000\n",
    "re1     0.1000    0.0000    0.0000 # reference points for S+S\n",
    "re2    -0.1000    0.0000    0.0000 \"\"\"\n",
    "\n",
    "    with open(f'./model/{S_name}.mol', 'w') as f:\n",
    "        f.write(molinfo)\n",
    "    "
   ]
  },
  {
   "cell_type": "code",
   "execution_count": 17,
   "id": "86a6b0ca-0fd0-4a0c-a923-de23905b8870",
   "metadata": {},
   "outputs": [],
   "source": [
    "for si, _ in enumerate(resembSitesPositions):\n",
    "    write_S_mol(f\"S{si}\")"
   ]
  },
  {
   "cell_type": "code",
   "execution_count": 18,
   "id": "9fc0e79e-2a95-48f3-9a3b-486cc3fdc3d8",
   "metadata": {},
   "outputs": [
    {
     "name": "stdout",
     "output_type": "stream",
     "text": [
      "To achieve D_3d = 1 and D_1d = 0.1, D_N = 0.111\n",
      "Actual D_1d: 0.0999099909990999\n"
     ]
    }
   ],
   "source": [
    "print(\"To achieve D_3d = 1 and D_1d = 0.1, D_N = %.3f\"%(1/9))\n",
    "print(\"Actual D_1d:\", (1 + 1/0.111)**-1)"
   ]
  },
  {
   "cell_type": "code",
   "execution_count": null,
   "id": "78b21f8b-7850-4ce7-ad28-0eb0932cdb3c",
   "metadata": {},
   "outputs": [],
   "source": []
  }
 ],
 "metadata": {
  "kernelspec": {
   "display_name": "base",
   "language": "python",
   "name": "python3"
  },
  "language_info": {
   "codemirror_mode": {
    "name": "ipython",
    "version": 3
   },
   "file_extension": ".py",
   "mimetype": "text/x-python",
   "name": "python",
   "nbconvert_exporter": "python",
   "pygments_lexer": "ipython3",
   "version": "3.11.7"
  }
 },
 "nbformat": 4,
 "nbformat_minor": 5
}
